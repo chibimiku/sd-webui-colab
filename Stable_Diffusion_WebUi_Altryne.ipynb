{
  "cells": [
    {
      "cell_type": "markdown",
      "metadata": {
        "colab_type": "text",
        "id": "view-in-github"
      },
      "source": [
        "<a href=\"https://colab.research.google.com/github/altryne/sd-webui-colab/blob/main/Stable_Diffusion_WebUi_Altryne.ipynb\" target=\"_parent\"><img src=\"https://colab.research.google.com/assets/colab-badge.svg\" alt=\"Open In Colab\"/></a>"
      ]
    },
    {
      "cell_type": "markdown",
      "metadata": {
        "id": "jnXUwtACCHOy"
      },
      "source": [
        "# Welcome to Stable Diffusion WebUI 1.4! by [@altryne](https://twitter.com/altryne/) |  [![ko-fi](https://ko-fi.com/img/githubbutton_sm.svg)](https://ko-fi.com/N4N3DWMR1) \n",
        "\n",
        "This colab runs the latest webui version from the repo https://github.com/hlky/stable-diffusion-webui\n",
        "\n",
        "---\n",
        "\n",
        "If this colab helped you, support me on ko-fi and don't forget to subscribe to my awesome list https://github.com/altryne/awesome-ai-art-image-synthesis\n"
      ]
    },
    {
      "cell_type": "markdown",
      "metadata": {
        "id": "uKA724szI_aG"
      },
      "source": []
    },
    {
      "cell_type": "markdown",
      "metadata": {
        "id": "4eodrBxeCgOW"
      },
      "source": [
        "## 1 -  Setup stage"
      ]
    },
    {
      "cell_type": "markdown",
      "metadata": {
        "id": "YiG8fBPrI99p"
      },
      "source": [
        "### 1.0"
      ]
    },
    {
      "cell_type": "code",
      "execution_count": null,
      "metadata": {
        "id": "cAsdhafsBvEr"
      },
      "outputs": [],
      "source": [
        "!nvidia-smi -L\n",
        "!whoami"
      ]
    },
    {
      "cell_type": "markdown",
      "metadata": {
        "id": "RXasLtrYC9uj"
      },
      "source": [
        "### 1.1 Download repo and install\n",
        "\n",
        "Clone git repo and setup miniconda\n"
      ]
    },
    {
      "cell_type": "code",
      "execution_count": null,
      "metadata": {
        "cellView": "form",
        "id": "LSCxESSsDGVh"
      },
      "outputs": [],
      "source": [
        "#@markdown ## Download the stable-diffusion webui repo\n",
        "#@markdown And install colab related conda (uncheck stable version if you like new features)\n",
        "import sys\n",
        "!mkdir /content/pywork\n",
        "%cd /content/pywork\n",
        "!wget https://repo.anaconda.com/miniconda/Miniconda3-latest-Linux-x86_64.sh\n",
        "!chmod +x Miniconda3-latest-Linux-x86_64.sh\n",
        "!bash ./Miniconda3-latest-Linux-x86_64.sh -b -f\n",
        "!echo \"export PATH=$PATH:/home/$(whoami)/miniconda3/bin\" >> .bashrc\n",
        "!source .bashrc\n",
        "!conda init\n",
        "!bash\n",
        "!conda create -n py310 python=3.10\n",
        "!conda activate py310\n",
        "\n",
        "%cd /content\n",
        "!git clone https://github.com/AUTOMATIC1111/stable-diffusion-webui"
      ]
    },
    {
      "cell_type": "markdown",
      "metadata": {
        "id": "mBFOSYR91AeT"
      },
      "source": [
        "### 1.2 Connect to Google Drive"
      ]
    },
    {
      "cell_type": "code",
      "execution_count": null,
      "metadata": {
        "cellView": "form",
        "id": "vkgBVo5OEpqn"
      },
      "outputs": [],
      "source": [
        "#@markdown # Load the stable-diffusion model\n",
        "\n",
        "#@markdown **Model Path Variables**\n",
        "# ask for the link\n",
        "print(\"Local Path Variables:\\n\")\n",
        "\n",
        "models_path = \"/content/models\" #@param {type:\"string\"}\n",
        "output_path = \"/content/output\" #@param {type:\"string\"}\n",
        "\n",
        "#@markdown **Download the model if it isn't already in the 'models_path' folder (Optional)**\n",
        "\n",
        "#@markdown To download the model, you need to have accepted the terms [HERE](https://huggingface.co/CompVis/stable-diffusion-v1-4)\n",
        "#@markdown and have copied a token from [HERE](https://huggingface.co/settings/tokens)\n",
        "download_if_missing = False #@param {type:\"boolean\"}\n",
        "token = \"\" #@param {type:\"string\"}\n",
        "\n",
        "#@markdown **Google Drive Path Variables (Optional)**\n",
        "mount_google_drive = True #@param {type:\"boolean\"}\n",
        "force_remount = False\n",
        "\n",
        "%cd /content/\n",
        "import os\n",
        "mount_success = True\n",
        "if mount_google_drive:\n",
        "    from google.colab import drive\n",
        "    try:\n",
        "        drive_path = \"/content/drive\"\n",
        "        drive.mount(drive_path,force_remount=force_remount)\n",
        "        models_path_gdrive = \"/content/drive/MyDrive/AI/models\" #@param {type:\"string\"}\n",
        "        output_path_gdrive = \"/content/drive/MyDrive/AI/StableDiffusion\" #@param {type:\"string\"}\n",
        "        models_path = models_path_gdrive\n",
        "        output_path = output_path_gdrive\n",
        "    except:\n",
        "        print(\"...error mounting drive or with drive path variables\")\n",
        "        print(\"...reverting to default path variables\")\n",
        "        mount_success = False\n",
        "\n",
        "os.makedirs(models_path, exist_ok=True)\n",
        "os.makedirs(output_path, exist_ok=True)\n",
        "\n",
        "!ln -s {models_path} /content/stable-diffusion-webui/\n",
        "!ln -s {models_path} /content/stable-diffusion-webui/models/Stable-diffusion/\n",
        "\n",
        "print(f\"models_path: {models_path}\")\n",
        "print(f\"output_path: {output_path}\")"
      ]
    },
    {
      "cell_type": "markdown",
      "metadata": {
        "id": "E1kYjBY9Rmi-"
      },
      "source": [
        "## 2 - Launch WebUI for stable diffusion"
      ]
    },
    {
      "cell_type": "code",
      "execution_count": null,
      "metadata": {
        "cellView": "form",
        "id": "BTH_drY9KZ4k"
      },
      "outputs": [],
      "source": [
        "#@markdown ** keep in mind that this script is set to run for ever, google will disconnect you after 90 minutes on free tiers\n",
        "\n",
        "#@markdown # Important - click the public URL to launch WebUI in another tab\n",
        "#@markdown ![](https://user-images.githubusercontent.com/463317/187105407-dd9b0f4e-c8da-49d3-8c78-1767f5c9aa83.jpg)\n",
        "\n",
        "#fix adding share_password to the launch params, and also changin {vars} to $vars as it was causing webui.py to fail.\n",
        "\n",
        "%cd /content/stable-diffusion-webui/\n",
        "!bash webui-user.sh \n",
        "\n",
        "\n"
      ]
    },
    {
      "cell_type": "code",
      "execution_count": null,
      "metadata": {
        "id": "iZ-X7HxeRNRQ"
      },
      "outputs": [],
      "source": []
    }
  ],
  "metadata": {
    "accelerator": "GPU",
    "colab": {
      "collapsed_sections": [
        "4eodrBxeCgOW",
        "RXasLtrYC9uj",
        "MVJzvQGdDn6C",
        "vhZQqFGxEHcA",
        "Wt_tzv_eJ9Qz",
        "ip0o1IqmQNON",
        "E1kYjBY9Rmi-"
      ],
      "include_colab_link": true,
      "machine_shape": "hm",
      "name": "Stable Diffusion WebUi - Altryne",
      "provenance": []
    },
    "gpuClass": "standard",
    "kernelspec": {
      "display_name": "Python 3.10.5 64-bit",
      "language": "python",
      "name": "python3"
    },
    "language_info": {
      "name": "python",
      "version": "3.10.5"
    },
    "vscode": {
      "interpreter": {
        "hash": "26de051ba29f2982a8de78e945f0abaf191376122a1563185a90213a26c5da77"
      }
    }
  },
  "nbformat": 4,
  "nbformat_minor": 0
}
